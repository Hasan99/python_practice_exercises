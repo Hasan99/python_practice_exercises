{
 "cells": [
  {
   "cell_type": "markdown",
   "metadata": {},
   "source": [
    "# List Excercise"
   ]
  },
  {
   "cell_type": "markdown",
   "metadata": {},
   "source": [
    "## Ex. 1) Write a Python program to sum all the items in a list. "
   ]
  },
  {
   "cell_type": "code",
   "execution_count": 5,
   "metadata": {},
   "outputs": [
    {
     "name": "stdout",
     "output_type": "stream",
     "text": [
      "List: [10, 20, 30, 40, 50]\n",
      "Sum: 150\n"
     ]
    }
   ],
   "source": [
    "values = [10, 20, 30, 40, 50]\n",
    "total = 0\n",
    "\n",
    "for value in values:\n",
    "    total = total + value\n",
    "\n",
    "print(f\"List: {values}\")\n",
    "print(f\"Sum: {total}\")\n"
   ]
  },
  {
   "cell_type": "markdown",
   "metadata": {},
   "source": [
    "## Ex. 2) Write a Python program to multiplies all the items in a list."
   ]
  },
  {
   "cell_type": "code",
   "execution_count": 6,
   "metadata": {},
   "outputs": [
    {
     "name": "stdout",
     "output_type": "stream",
     "text": [
      "List: [10, 20, 30, 40, 50]\n",
      "Result: 12000000\n"
     ]
    }
   ],
   "source": [
    "values = [10, 20, 30, 40, 50]\n",
    "result = 1\n",
    "\n",
    "for value in values:\n",
    "    result = result * value\n",
    "\n",
    "print(f\"List: {values}\")\n",
    "print(f\"Result: {result}\")\n"
   ]
  },
  {
   "cell_type": "markdown",
   "metadata": {},
   "source": [
    "## Ex. 3) Write a Python program to copy a list."
   ]
  },
  {
   "cell_type": "code",
   "execution_count": 7,
   "metadata": {},
   "outputs": [
    {
     "name": "stdout",
     "output_type": "stream",
     "text": [
      "Friends      : ['Arsh', 'Hermain', 'Maryam', 'Sadaf', 'Arqum', 'Faisal', 'Hasan', 'Shaadu']\n",
      "Mirror Images: ['Arsh', 'Hermain', 'Maryam', 'Sadaf', 'Arqum', 'Faisal', 'Hasan', 'Shaadu']\n"
     ]
    }
   ],
   "source": [
    "friends = [\"Arsh\", \"Hermain\", \"Maryam\", \"Sadaf\", \"Arqum\", \"Faisal\", \"Hasan\", \"Shaadu\"]\n",
    "\n",
    "mirror_images = friends.copy()\n",
    "\n",
    "print(f\"Friends      : {friends}\")\n",
    "print(f\"Mirror Images: {mirror_images}\")\n"
   ]
  },
  {
   "cell_type": "markdown",
   "metadata": {},
   "source": [
    "## Ex. 4) Write a Python program to remove 1st, 3rd and 5th element from a list and return the list."
   ]
  },
  {
   "cell_type": "code",
   "execution_count": 8,
   "metadata": {},
   "outputs": [
    {
     "name": "stdout",
     "output_type": "stream",
     "text": [
      "Foods: ['Pizza', 'Burger', 'Fries', 'Zinger', 'Chips', 'Pastries', 'Cookies', 'Cakes']\n",
      "\n",
      "After removing first element:\n",
      "Foods: ['Burger', 'Fries', 'Zinger', 'Chips', 'Pastries', 'Cookies', 'Cakes']\n",
      "\n",
      "After removing third element:\n",
      "Foods: ['Burger', 'Fries', 'Chips', 'Pastries', 'Cookies', 'Cakes']\n",
      "\n",
      "After removing fifth element:\n",
      "Foods: ['Burger', 'Fries', 'Chips', 'Pastries', 'Cakes']\n"
     ]
    }
   ],
   "source": [
    "foods = [\"Pizza\", \"Burger\", \"Fries\", \"Zinger\", \"Chips\", \"Pastries\", \"Cookies\", \"Cakes\"]\n",
    "\n",
    "# index numbers\n",
    "first = 1 - 1\n",
    "third = 3 - 1\n",
    "fifth = 5 - 1\n",
    "\n",
    "print(f\"Foods: {foods}\")\n",
    "\n",
    "foods.pop(first)\n",
    "print(\"\\nAfter removing first element:\")\n",
    "print(f\"Foods: {foods}\")\n",
    "\n",
    "foods.pop(third)\n",
    "print(\"\\nAfter removing third element:\")\n",
    "print(f\"Foods: {foods}\")\n",
    "\n",
    "foods.pop(fifth)\n",
    "print(\"\\nAfter removing fifth element:\")\n",
    "print(f\"Foods: {foods}\")\n"
   ]
  },
  {
   "cell_type": "markdown",
   "metadata": {},
   "source": [
    "## Ex. 5) Write a python program to take index from user and remove that element from list."
   ]
  },
  {
   "cell_type": "code",
   "execution_count": 9,
   "metadata": {},
   "outputs": [
    {
     "name": "stdout",
     "output_type": "stream",
     "text": [
      "Foods: ['Pizza', 'Burger', 'Fries', 'Zinger', 'Chips', 'Pastries', 'Cookies', 'Cakes']\n",
      "Enter index: 0\n",
      "\n",
      "Removed 'Pizza' from list!\n",
      "Remaining Foods: ['Burger', 'Fries', 'Zinger', 'Chips', 'Pastries', 'Cookies', 'Cakes']\n"
     ]
    }
   ],
   "source": [
    "try:\n",
    "    foods = [\"Pizza\", \"Burger\", \"Fries\", \"Zinger\", \"Chips\", \"Pastries\", \"Cookies\", \"Cakes\"]\n",
    "    print(f\"Foods: {foods}\")\n",
    "\n",
    "    index = int(input(\"Enter index: \"))\n",
    "\n",
    "    if (index > 0) and (index >= (len(foods))):\n",
    "        raise ValueError()\n",
    "    elif index < 0 and ((index * -1) > len(foods)):\n",
    "        raise ValueError()\n",
    "\n",
    "    print(f\"\\nRemoved '{foods.pop(index)}' from list!\")\n",
    "    print(f\"Remaining Foods: {foods}\")\n",
    "\n",
    "except ValueError:\n",
    "    print(\"Invalid index!\")\n"
   ]
  },
  {
   "cell_type": "markdown",
   "metadata": {},
   "source": [
    "## Ex. 6) Given a Python list. Turn every item of a list into its square."
   ]
  },
  {
   "cell_type": "code",
   "execution_count": 10,
   "metadata": {},
   "outputs": [
    {
     "name": "stdout",
     "output_type": "stream",
     "text": [
      "Values: [2, 3, 4, 5, 6]\n",
      "Squares: [4, 9, 16, 25, 36]\n"
     ]
    }
   ],
   "source": [
    "values = [2, 3, 4, 5, 6]\n",
    "\n",
    "squares = []\n",
    "\n",
    "for value in values:\n",
    "    squares.append(value * value)\n",
    "\n",
    "print(f\"Values: {values}\")\n",
    "print(f\"Squares: {squares}\")\n"
   ]
  },
  {
   "cell_type": "markdown",
   "metadata": {},
   "source": [
    "## Ex. 7) Given a Python list, find value 20 in the list, and if it is present, replace it with 200.\n",
    "## list1 = [5, 10, 15, 20, 25, 50, 20]"
   ]
  },
  {
   "cell_type": "code",
   "execution_count": 13,
   "metadata": {},
   "outputs": [
    {
     "name": "stdout",
     "output_type": "stream",
     "text": [
      "Before: [5, 10, 15, 20, 25, 50, 20]\n",
      "After: [5, 10, 15, 200, 25, 50, 200]\n"
     ]
    }
   ],
   "source": [
    "list_1 = [5, 10, 15, 20, 25, 50, 20]\n",
    "\n",
    "print(f\"Before: {list_1}\")\n",
    "\n",
    "for value in list_1:\n",
    "    if value == 20:\n",
    "        index = list_1.index(value)\n",
    "        list_1[index] = 200\n",
    "\n",
    "print(f\"After: {list_1}\")\n"
   ]
  },
  {
   "cell_type": "markdown",
   "metadata": {},
   "source": [
    "## Ex. 8) Given a Python list you should be able to display Python list in the following order.\n",
    "## List1 = ['e', 'a', 'u', 'o', 'i']\n",
    "## expected output = ['a', 'e', 'i', 'o', 'u']"
   ]
  },
  {
   "cell_type": "code",
   "execution_count": 12,
   "metadata": {},
   "outputs": [
    {
     "name": "stdout",
     "output_type": "stream",
     "text": [
      "Before sorting: ['e', 'a', 'u', 'o', 'i']\n",
      "After sorting: ['a', 'e', 'i', 'o', 'u']\n"
     ]
    }
   ],
   "source": [
    "list_1 = ['e', 'a', 'u', 'o', 'i']\n",
    "\n",
    "print(f\"Before sorting: {list_1}\")\n",
    "\n",
    "list_1.sort()\n",
    "\n",
    "print(f\"After sorting: {list_1}\")\n"
   ]
  },
  {
   "cell_type": "code",
   "execution_count": null,
   "metadata": {},
   "outputs": [],
   "source": []
  }
 ],
 "metadata": {
  "kernelspec": {
   "display_name": "Python 3",
   "language": "python",
   "name": "python3"
  },
  "language_info": {
   "codemirror_mode": {
    "name": "ipython",
    "version": 3
   },
   "file_extension": ".py",
   "mimetype": "text/x-python",
   "name": "python",
   "nbconvert_exporter": "python",
   "pygments_lexer": "ipython3",
   "version": "3.7.6"
  }
 },
 "nbformat": 4,
 "nbformat_minor": 4
}
