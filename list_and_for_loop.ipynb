{
 "cells": [
  {
   "cell_type": "markdown",
   "metadata": {},
   "source": [
    "# Exercise # 1:\n",
    "Given a Python list you should be able to display Python list in the following order\n",
    "\n",
    "aLsit = [100, 200, 300, 400, 500]\n",
    "\n",
    "Expected output:\n",
    "\n",
    "[500, 400, 300, 200, 100]"
   ]
  },
  {
   "cell_type": "code",
   "execution_count": 1,
   "metadata": {},
   "outputs": [
    {
     "name": "stdout",
     "output_type": "stream",
     "text": [
      "Before: [100, 200, 300, 400, 500]\n",
      "After: [500, 400, 300, 200, 100]\n"
     ]
    }
   ],
   "source": [
    "aList = [100, 200, 300, 400, 500]\n",
    "\n",
    "print(f\"Before: {aList}\")\n",
    "\n",
    "aList.sort(reverse=True)\n",
    "\n",
    "print(f\"After: {aList}\")\n"
   ]
  },
  {
   "cell_type": "markdown",
   "metadata": {},
   "source": [
    "# Exercise # 2: \n",
    "\n",
    "Concatenate two lists index-wise\n",
    "\n",
    "list1 = [\"M\", \"na\", \"i\", \"Ke\"] \n",
    "\n",
    "list2 = [\"y\", \"me\", \"s\", \"lly\"]\n",
    "\n",
    "Expected output:\n",
    "\n",
    "['My', 'name', 'is', 'Kelly']"
   ]
  },
  {
   "cell_type": "code",
   "execution_count": 2,
   "metadata": {},
   "outputs": [
    {
     "name": "stdout",
     "output_type": "stream",
     "text": [
      "List 1: ['M', 'na', 'i', 'Ke']\n",
      "List 2: ['y', 'me', 's', 'lly']\n",
      "\n",
      "Merged List: ['My', 'name', 'is', 'Kelly']\n"
     ]
    }
   ],
   "source": [
    "list1 = [\"M\", \"na\", \"i\", \"Ke\"]\n",
    "list2 = [\"y\", \"me\", \"s\", \"lly\"]\n",
    "merged_list = []\n",
    "\n",
    "for index in range(len(list1)):\n",
    "    merged_list.append(list1[index] + list2[index])\n",
    "\n",
    "print(f\"List 1: {list1}\")\n",
    "print(f\"List 2: {list2}\")\n",
    "print(f\"\\nMerged List: {merged_list}\")\n"
   ]
  },
  {
   "cell_type": "markdown",
   "metadata": {},
   "source": [
    "# Exercise Question 3: \n",
    "Given a Python list. Turn every item of a list into its square\n",
    "\n",
    "aList = [1, 2, 3, 4, 5, 6, 7]\n",
    "\n",
    "Expected output:\n",
    "\n",
    "[1, 4, 9, 16, 25, 36, 49]"
   ]
  },
  {
   "cell_type": "code",
   "execution_count": 3,
   "metadata": {},
   "outputs": [
    {
     "name": "stdout",
     "output_type": "stream",
     "text": [
      "List: [1, 2, 3, 4, 5, 6, 7]\n",
      "Squares: [1, 4, 9, 16, 25, 36, 49]\n"
     ]
    }
   ],
   "source": [
    "aList = [1, 2, 3, 4, 5, 6, 7]\n",
    "\n",
    "print(f\"List: {aList}\")\n",
    "\n",
    "for index in range(len(aList)):\n",
    "    aList[index] = aList[index] ** 2\n",
    "\n",
    "print(f\"Squares: {aList}\")\n"
   ]
  },
  {
   "cell_type": "markdown",
   "metadata": {},
   "source": [
    "# Exercise # 4: \n",
    "Concatenate two lists in the following order\n",
    "\n",
    "list1 = [\"Hello \", \"take \"]\n",
    "\n",
    "list2 = [\"Dear\", \"Sir\"]\n",
    "\n",
    "Expected output:\n",
    "\n",
    "['Hello Dear', 'Hello Sir', 'take Dear', 'take Sir']"
   ]
  },
  {
   "cell_type": "code",
   "execution_count": 4,
   "metadata": {},
   "outputs": [
    {
     "name": "stdout",
     "output_type": "stream",
     "text": [
      "List 1: ['Hello ', 'take ']\n",
      "List 2: ['Dear', 'Sir']\n",
      "\n",
      "Merged List: ['Hello Dear', 'Hello Sir', 'take Dear', 'take Sir']\n"
     ]
    }
   ],
   "source": [
    "list1 = [\"Hello \", \"take \"]\n",
    "list2 = [\"Dear\", \"Sir\"]\n",
    "merged_list = []\n",
    "\n",
    "for value_1 in list1:\n",
    "    for value_2 in list2:\n",
    "        merged_list.append(value_1 + value_2)\n",
    "\n",
    "print(f\"List 1: {list1}\")\n",
    "print(f\"List 2: {list2}\")\n",
    "print(f\"\\nMerged List: {merged_list}\")\n"
   ]
  },
  {
   "cell_type": "markdown",
   "metadata": {},
   "source": [
    "# Exercise # 5: \n",
    "Given a two Python list. Iterate both lists simultaneously such that list1 should display item in original order and list2 in reverse order\n",
    "\n",
    "list1 = [10, 20, 30, 40]\n",
    "\n",
    "list2 = [100, 200, 300, 400]\n",
    "\n",
    "Expected output:\n",
    "\n",
    "10 400\n",
    "\n",
    "20 300\n",
    "\n",
    "30 200\n",
    "\n",
    "40 100"
   ]
  },
  {
   "cell_type": "code",
   "execution_count": 5,
   "metadata": {},
   "outputs": [
    {
     "name": "stdout",
     "output_type": "stream",
     "text": [
      "10 400\n",
      "20 300\n",
      "30 200\n",
      "40 100\n"
     ]
    }
   ],
   "source": [
    "list1 = [10, 20, 30, 40]\n",
    "list2 = [100, 200, 300, 400]\n",
    "\n",
    "index2 = len(list2) - 1\n",
    "\n",
    "for index1 in range(len(list1)):\n",
    "    print(f\"{list1[index1]} {list2[index2]}\")\n",
    "    index2 = index2 - 1\n"
   ]
  },
  {
   "cell_type": "markdown",
   "metadata": {},
   "source": [
    "# Exercise # 6 :\n",
    "Remove empty strings from the list of strings\n",
    "\n",
    "list1 = [\"Mike\", \"\", \"Emma\", \"Kelly\", \"\", \"Brad\"]\n",
    "\n",
    "Expected output:\n",
    "\n",
    "[\"Mike\", \"Emma\", \"Kelly\", \"Brad\"]"
   ]
  },
  {
   "cell_type": "code",
   "execution_count": 6,
   "metadata": {},
   "outputs": [
    {
     "name": "stdout",
     "output_type": "stream",
     "text": [
      "Before removing: ['Mike', '', 'Emma', 'Kelly', '', 'Brad']\n",
      "After removing: ['Mike', 'Emma', 'Kelly', 'Brad']\n"
     ]
    }
   ],
   "source": [
    "list1 = [\"Mike\", \"\", \"Emma\", \"Kelly\", \"\", \"Brad\"]\n",
    "\n",
    "print(f\"Before removing: {list1}\")\n",
    "\n",
    "for a_value in list1:\n",
    "    if not a_value:\n",
    "        list1.remove(a_value)\n",
    "\n",
    "print(f\"After removing: {list1}\")\n"
   ]
  },
  {
   "cell_type": "markdown",
   "metadata": {},
   "source": [
    "# Exercise # 7 :\n",
    "Write a Python program to convert temperatures to and from celsius, fahrenheit. Go to the editor\n",
    "[ Formula : c/5 = f-32/9 [ where c = temperature in celsius and f = temperature in fahrenheit ]\n",
    "Expected Output :\n",
    "60°C is 140 in Fahrenheit\n",
    "45°F is 7 in Celsius\n"
   ]
  },
  {
   "cell_type": "code",
   "execution_count": 8,
   "metadata": {},
   "outputs": [
    {
     "name": "stdout",
     "output_type": "stream",
     "text": [
      "Example input 1: 50C\n",
      "Example input 2: 60F\n",
      "\n",
      "Enter Temperature with unit: 25C\n",
      "\n",
      "25C is 77.0 in Fahrenheit\n"
     ]
    }
   ],
   "source": [
    "try:\n",
    "    print(\"Example input 1: 50C\")\n",
    "    print(\"Example input 2: 60F\")\n",
    "\n",
    "    temperature = input(\"\\nEnter Temperature with unit: \")\n",
    "\n",
    "    value = float(temperature[:-1])\n",
    "    unit = temperature[-1].upper()\n",
    "\n",
    "    if unit == \"C\":\n",
    "        fahrenheit = ((9 * value) / 5) + 32\n",
    "        print(f\"\\n{temperature} is {round(fahrenheit, 2)} in Fahrenheit\")\n",
    "    elif unit == \"F\":\n",
    "        celsius = ((value - 32) * 5) / 9\n",
    "        print(f\"\\n{temperature} is {round(celsius, 2)} in Celsius\")\n",
    "    else:\n",
    "        raise ValueError()\n",
    "\n",
    "except ValueError:\n",
    "    print(\"Invalid Value!\")\n"
   ]
  },
  {
   "cell_type": "markdown",
   "metadata": {},
   "source": [
    "# Exercise # 8\n",
    "Write a Python program to guess a number between 1 to 9.\n",
    "Note : User is prompted to enter a guess. If the user guesses wrong\n",
    "then the prompt appears again until the guess is correct, on successful guess,\n",
    "user will get a \"Well guessed!\" message, and the program will exit.\n"
   ]
  },
  {
   "cell_type": "code",
   "execution_count": 1,
   "metadata": {},
   "outputs": [
    {
     "name": "stdout",
     "output_type": "stream",
     "text": [
      "Enter guess number: 1\n",
      "Enter guess number: 2\n",
      "Enter guess number: 3\n",
      "Enter guess number: 4\n",
      "Enter guess number: 5\n",
      "Enter guess number: 6\n",
      "Enter guess number: 7\n",
      "Enter guess number: 8\n",
      "Well guessed!\n"
     ]
    }
   ],
   "source": [
    "import random\n",
    "\n",
    "try:\n",
    "    user_guess = 0\n",
    "\n",
    "    while user_guess != random.randint(1, 9):\n",
    "        user_guess = int(input(\"Enter guess number: \"))\n",
    "\n",
    "    print(\"Well guessed!\")\n",
    "\n",
    "except ValueError:\n",
    "    print(\"Invalid Number!\")\n"
   ]
  },
  {
   "cell_type": "markdown",
   "metadata": {},
   "source": [
    "# Exercise # 9\n",
    "Write a Python program that prints all the numbers from 0 to 6 except 3 and 6."
   ]
  },
  {
   "cell_type": "code",
   "execution_count": 2,
   "metadata": {},
   "outputs": [
    {
     "name": "stdout",
     "output_type": "stream",
     "text": [
      "0\n",
      "1\n",
      "2\n",
      "4\n",
      "5\n"
     ]
    }
   ],
   "source": [
    "for number in range(0, 7):\n",
    "    if number == 3 or number == 6:\n",
    "        continue\n",
    "    print(number)\n"
   ]
  },
  {
   "cell_type": "markdown",
   "metadata": {},
   "source": [
    "# Exercise # 10\n",
    "Write a Python program which iterates the integers from 1 to 50.\n",
    "For multiples of three print \"it is multiple of 3\" instead of the number \n",
    "and for the multiples of five print \"multiple of 5\". For numbers which are \n",
    "multiples of both three and five print \"multiple of both 3 and 5\"\n"
   ]
  },
  {
   "cell_type": "code",
   "execution_count": 3,
   "metadata": {},
   "outputs": [
    {
     "name": "stdout",
     "output_type": "stream",
     "text": [
      "1\n",
      "2\n",
      "It is multiple of 3\n",
      "4\n",
      "It is multiple of 5\n",
      "It is multiple of 3\n",
      "7\n",
      "8\n",
      "It is multiple of 3\n",
      "It is multiple of 5\n",
      "11\n",
      "It is multiple of 3\n",
      "13\n",
      "14\n",
      "Multiple of both 3 and 5\n",
      "16\n",
      "17\n",
      "It is multiple of 3\n",
      "19\n",
      "It is multiple of 5\n",
      "It is multiple of 3\n",
      "22\n",
      "23\n",
      "It is multiple of 3\n",
      "It is multiple of 5\n",
      "26\n",
      "It is multiple of 3\n",
      "28\n",
      "29\n",
      "Multiple of both 3 and 5\n",
      "31\n",
      "32\n",
      "It is multiple of 3\n",
      "34\n",
      "It is multiple of 5\n",
      "It is multiple of 3\n",
      "37\n",
      "38\n",
      "It is multiple of 3\n",
      "It is multiple of 5\n",
      "41\n",
      "It is multiple of 3\n",
      "43\n",
      "44\n",
      "Multiple of both 3 and 5\n",
      "46\n",
      "47\n",
      "It is multiple of 3\n",
      "49\n",
      "It is multiple of 5\n"
     ]
    }
   ],
   "source": [
    "for number in range(1, 51):\n",
    "    printed = False\n",
    "\n",
    "    if (number % 3 == 0) and (number % 5 == 0):\n",
    "        print(\"Multiple of both 3 and 5\")\n",
    "        printed = True\n",
    "    if not printed:\n",
    "        if number % 3 == 0:\n",
    "            print(\"It is multiple of 3\")\n",
    "            printed = True\n",
    "    if not printed:\n",
    "        if number % 5 == 0:\n",
    "            print(\"It is multiple of 5\")\n",
    "            printed = True\n",
    "    if not printed:\n",
    "        print(number)\n"
   ]
  },
  {
   "cell_type": "markdown",
   "metadata": {},
   "source": [
    "# Exercise # 11\n",
    "Write a Python program to create the multiplication table (from 1 to 10) of a number."
   ]
  },
  {
   "cell_type": "code",
   "execution_count": 5,
   "metadata": {},
   "outputs": [
    {
     "name": "stdout",
     "output_type": "stream",
     "text": [
      "Enter number: 5\n",
      "\n",
      "5 x 1 = 5\n",
      "5 x 2 = 10\n",
      "5 x 3 = 15\n",
      "5 x 4 = 20\n",
      "5 x 5 = 25\n",
      "5 x 6 = 30\n",
      "5 x 7 = 35\n",
      "5 x 8 = 40\n",
      "5 x 9 = 45\n",
      "5 x 10 = 50\n"
     ]
    }
   ],
   "source": [
    "try:\n",
    "    number = int(input(\"Enter number: \"))\n",
    "    print()\n",
    "\n",
    "    for times in range(1, 11):\n",
    "        print(f\"{number} x {times} = {number * times}\")\n",
    "\n",
    "except ValueError:\n",
    "    print(\"Invalid Value!\")\n"
   ]
  },
  {
   "cell_type": "markdown",
   "metadata": {},
   "source": [
    "# Exercise # 12\n",
    "Get all diagonal of matrix and sum of it :\n",
    "matrix = [[1,2,3,4], [2,3,4,5], [3,4,5,6], [4,5,6,7]]"
   ]
  },
  {
   "cell_type": "code",
   "execution_count": 1,
   "metadata": {},
   "outputs": [
    {
     "name": "stdout",
     "output_type": "stream",
     "text": [
      "Matrix:\n",
      "\n",
      "[1, 2, 3, 4]\n",
      "[2, 3, 4, 5]\n",
      "[3, 4, 5, 6]\n",
      "[4, 5, 6, 7]\n",
      "\n",
      "Left to Right Diagonal: 1 3 5 7 , Sum = 16\n",
      "Right to Left Diagonal: 4 4 4 4 , Sum = 16\n"
     ]
    }
   ],
   "source": [
    "matrix = [\n",
    "    [1, 2, 3, 4],\n",
    "    [2, 3, 4, 5],\n",
    "    [3, 4, 5, 6],\n",
    "    [4, 5, 6, 7],\n",
    "]\n",
    "\n",
    "index_1 = 0\n",
    "index_2 = len(matrix) - 1\n",
    "left_to_right_diagonal = \"\"\n",
    "right_to_left_diagonal = \"\"\n",
    "left_to_right_diagonal_sum = 0\n",
    "right_to_left_diagonal_sum = 0\n",
    "\n",
    "print(\"Matrix:\\n\")\n",
    "\n",
    "for row in matrix:\n",
    "    print(row)\n",
    "\n",
    "    left_to_right_diagonal_sum = left_to_right_diagonal_sum + row[index_1]\n",
    "    left_to_right_diagonal = left_to_right_diagonal + str(row[index_1]) + \" \"\n",
    "    index_1 = index_1 + 1\n",
    "\n",
    "    right_to_left_diagonal_sum = right_to_left_diagonal_sum + row[index_2]\n",
    "    right_to_left_diagonal = right_to_left_diagonal + str(row[index_2]) + \" \"\n",
    "    index_2 = index_2 - 1\n",
    "\n",
    "print(f\"\\nLeft to Right Diagonal: {left_to_right_diagonal}, Sum = {left_to_right_diagonal_sum}\")\n",
    "print(f\"Right to Left Diagonal: {right_to_left_diagonal}, Sum = {right_to_left_diagonal_sum}\")\n"
   ]
  },
  {
   "cell_type": "code",
   "execution_count": null,
   "metadata": {},
   "outputs": [],
   "source": []
  }
 ],
 "metadata": {
  "kernelspec": {
   "display_name": "Python 3",
   "language": "python",
   "name": "python3"
  },
  "language_info": {
   "codemirror_mode": {
    "name": "ipython",
    "version": 3
   },
   "file_extension": ".py",
   "mimetype": "text/x-python",
   "name": "python",
   "nbconvert_exporter": "python",
   "pygments_lexer": "ipython3",
   "version": "3.7.6"
  }
 },
 "nbformat": 4,
 "nbformat_minor": 4
}
