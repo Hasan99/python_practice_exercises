{
 "cells": [
  {
   "cell_type": "markdown",
   "metadata": {},
   "source": [
    "# Exercise # 1 :\n",
    "Take two int values from user and print greatest among them."
   ]
  },
  {
   "cell_type": "code",
   "execution_count": 1,
   "metadata": {},
   "outputs": [
    {
     "name": "stdout",
     "output_type": "stream",
     "text": [
      "Enter Number 1: 10\n",
      "Enter Number 2: 5\n",
      "Greatest number is 10\n"
     ]
    }
   ],
   "source": [
    "try:\n",
    "    num1 = int(input(\"Enter Number 1: \"))\n",
    "    num2 = int(input(\"Enter Number 2: \"))\n",
    "\n",
    "    if num1 > num2:\n",
    "        print(f\"Greatest number is {num1}\")\n",
    "    elif num2 > num1:\n",
    "        print(f\"Greatest number is {num2}\")\n",
    "    else:\n",
    "        print(f\"Numbers are equal!\")\n",
    "\n",
    "except ValueError as error:\n",
    "    print(f\"Invalid Input!\\n{error.__str__()}\")\n"
   ]
  },
  {
   "cell_type": "markdown",
   "metadata": {},
   "source": [
    "# Exercise # 2:\n",
    "Take input of age of 3 people by user and determine oldest and youngest among them."
   ]
  },
  {
   "cell_type": "code",
   "execution_count": 6,
   "metadata": {},
   "outputs": [
    {
     "name": "stdout",
     "output_type": "stream",
     "text": [
      "Enter Age of Person 1: 10\n",
      "Enter Age of Person 2: 15\n",
      "Enter Age of Person 3: 20\n",
      "Person with age 10 is youngest.\n",
      "Person with age 20 is oldest.\n"
     ]
    }
   ],
   "source": [
    "try:\n",
    "    ages = []\n",
    "\n",
    "    for i in range(1, 4):\n",
    "        age = int(input(f\"Enter Age of Person {i}: \"))\n",
    "\n",
    "        if age <= 0:\n",
    "            raise ValueError()\n",
    "\n",
    "        ages.append(age)\n",
    "\n",
    "    smallest_age = ages[0]\n",
    "    largest_age = ages[1]\n",
    "\n",
    "    for age in ages:\n",
    "        if age < smallest_age:\n",
    "            smallest_age = age\n",
    "\n",
    "        if age > largest_age:\n",
    "            largest_age = age\n",
    "\n",
    "    if smallest_age == largest_age:\n",
    "        print(\"All persons are of equal age!\")\n",
    "    else:\n",
    "        print(f\"Person with age {smallest_age} is youngest.\")\n",
    "        print(f\"Person with age {largest_age} is oldest.\")\n",
    "\n",
    "except ValueError:\n",
    "    print(\"Invalid Age!\")\n"
   ]
  },
  {
   "cell_type": "markdown",
   "metadata": {},
   "source": [
    "# Exercise # 3:\n",
    "Take values of length and breadth of a rectangle from user and check if it is square or not."
   ]
  },
  {
   "cell_type": "code",
   "execution_count": 3,
   "metadata": {},
   "outputs": [
    {
     "name": "stdout",
     "output_type": "stream",
     "text": [
      "Enter Length: 12\n",
      "Enter Breadth: 12\n",
      "It is a square!\n"
     ]
    }
   ],
   "source": [
    "try:\n",
    "    length = int(input(\"Enter Length: \"))\n",
    "    breadth = int(input(\"Enter Breadth: \"))\n",
    "\n",
    "    if length == breadth:\n",
    "        print(\"It is a square!\")\n",
    "    else:\n",
    "        print(\"It is not a square!\")\n",
    "\n",
    "except ValueError:\n",
    "    print(\"Invalid value!\")\n"
   ]
  },
  {
   "cell_type": "markdown",
   "metadata": {},
   "source": [
    "# Exercise # 4:\n",
    "A shop will give discount of 10% if the cost of purchased quantity is more than 1000.\n",
    "Ask user for quantity\n",
    "Suppose, one unit will cost 100.\n",
    "Judge and print total cost for user.\n"
   ]
  },
  {
   "cell_type": "code",
   "execution_count": 4,
   "metadata": {},
   "outputs": [
    {
     "name": "stdout",
     "output_type": "stream",
     "text": [
      "Enter Quantity: 12\n",
      "Total Cost: 1200\n",
      "Discount  : 120.0\n",
      "Net Amount: 1080.0\n"
     ]
    }
   ],
   "source": [
    "try:\n",
    "    quantity = int(input(\"Enter Quantity: \"))\n",
    "    total_cost = 0\n",
    "    discount = 0\n",
    "    to_pay = 0\n",
    "\n",
    "    if quantity <= 0:\n",
    "        raise ValueError()\n",
    "\n",
    "    total_cost = quantity * 100\n",
    "    to_pay = total_cost\n",
    "\n",
    "    if total_cost > 1000:\n",
    "        discount = round((10 * total_cost) / 100, 2)\n",
    "        to_pay = total_cost - discount\n",
    "\n",
    "    print(f\"Total Cost: {total_cost}\")\n",
    "    print(f\"Discount  : {discount}\")\n",
    "    print(f\"Net Amount: {to_pay}\")\n",
    "\n",
    "except ValueError:\n",
    "    print(\"Invalid value!\")\n"
   ]
  },
  {
   "cell_type": "markdown",
   "metadata": {},
   "source": [
    "# Exercise # 5:\n",
    "A company decided to give bonus of 5% to employee if his/her year of service is more than 5 years.\n",
    "Ask user for their salary and year of service and print the net bonus amount.\n",
    "\n"
   ]
  },
  {
   "cell_type": "code",
   "execution_count": 1,
   "metadata": {},
   "outputs": [
    {
     "name": "stdout",
     "output_type": "stream",
     "text": [
      "Enter Years of Service: 10\n",
      "Enter Salary: 30000\n",
      "Salary: 30000.0\n",
      "Bonus : 1500.0\n",
      "Salary with Bonus: 31500.0\n"
     ]
    }
   ],
   "source": [
    "try:\n",
    "    years = int(input(\"Enter Years of Service: \"))\n",
    "    salary = float(input(\"Enter Salary: \"))\n",
    "    bonus = 0\n",
    "\n",
    "    if years <= 0 or salary <= 0:\n",
    "        raise ValueError()\n",
    "\n",
    "    if years > 5:\n",
    "        bonus = round((5 * salary) / 100, 2)\n",
    "\n",
    "    salary_with_bonus = salary + bonus\n",
    "\n",
    "    print(f\"Salary: {salary}\")\n",
    "    print(f\"Bonus : {bonus}\")\n",
    "\n",
    "    if bonus:\n",
    "        print(f\"Salary with Bonus: {salary_with_bonus}\")\n",
    "    else:\n",
    "        print(f\"Salary without Bonus: {salary}\")\n",
    "\n",
    "except ValueError:\n",
    "    print(\"Invalid value!\")\n"
   ]
  },
  {
   "cell_type": "markdown",
   "metadata": {},
   "source": [
    "# Exercise # 6:\n",
    "A school has following rules for grading system:\n",
    "\n",
    "a. Below 25 - F\n",
    "\n",
    "b. 25 to 45 - E\n",
    "\n",
    "c. 45 to 50 - D\n",
    "\n",
    "d. 50 to 60 - C\n",
    "\n",
    "e. 60 to 80 - B\n",
    "\n",
    "f. Above 80 - A\n",
    "\n",
    "Ask user to enter marks and print the corresponding grade."
   ]
  },
  {
   "cell_type": "code",
   "execution_count": 2,
   "metadata": {},
   "outputs": [
    {
     "name": "stdout",
     "output_type": "stream",
     "text": [
      "Enter Marks: 99\n",
      "Marks: 99.0\n",
      "Grade: A\n"
     ]
    }
   ],
   "source": [
    "try:\n",
    "    marks = float(input(\"Enter Marks: \"))\n",
    "\n",
    "    if marks < 0 or marks > 100:\n",
    "        raise ValueError()\n",
    "\n",
    "    grade = \"\"\n",
    "\n",
    "    if marks > 80:\n",
    "        grade = \"A\"\n",
    "    elif marks > 60:\n",
    "        grade = \"B\"\n",
    "    elif marks > 50:\n",
    "        grade = \"C\"\n",
    "    elif marks > 45:\n",
    "        grade = \"D\"\n",
    "    elif marks >= 25:\n",
    "        grade = \"E\"\n",
    "    else:\n",
    "        grade = \"F\"\n",
    "\n",
    "    print(f\"Marks: {marks}\")\n",
    "    print(f\"Grade: {grade}\")\n",
    "\n",
    "except ValueError:\n",
    "    print(\"Marks must be in range 0 to 100!\")\n"
   ]
  },
  {
   "cell_type": "markdown",
   "metadata": {},
   "source": [
    "# Exercise # 7:\n",
    "Write a program to print absolute vlaue of a number entered by user.\n",
    "\n",
    "E.g.-\n",
    "\n",
    "INPUT: 1    =>>>>    OUTPUT: 1\n",
    "\n",
    "INPUT: -1   =>>>>     OUTPUT: 1\n"
   ]
  },
  {
   "cell_type": "code",
   "execution_count": 3,
   "metadata": {},
   "outputs": [
    {
     "name": "stdout",
     "output_type": "stream",
     "text": [
      "Enter Number: -10\n",
      "Absolute Value: 10.0\n"
     ]
    }
   ],
   "source": [
    "try:\n",
    "    number = float(input(\"Enter Number: \"))\n",
    "\n",
    "    if number < 0:\n",
    "        number = number * -1\n",
    "\n",
    "    print(f\"Absolute Value: {number}\")\n",
    "\n",
    "except:\n",
    "    print(\"Invalid Value!\")\n"
   ]
  },
  {
   "cell_type": "markdown",
   "metadata": {},
   "source": [
    "# Exercise # 8:\n",
    "A student will not be allowed to sit in exam if his/her attendence is less than 75%.\n",
    "Take following input from user\n",
    "Number of classes held\n",
    "Number of classes attended.\n",
    "And print\n",
    "percentage of class attended\n",
    "Is student is allowed to sit in exam or not."
   ]
  },
  {
   "cell_type": "code",
   "execution_count": 4,
   "metadata": {},
   "outputs": [
    {
     "name": "stdout",
     "output_type": "stream",
     "text": [
      "Enter Number of Classes Held: 10\n",
      "Enter Number of Classes Attended: 8\n",
      "Percentage of Classes Attended: 80.0%\n",
      "You are allowed to sit in exam!\n"
     ]
    }
   ],
   "source": [
    "try:\n",
    "    number_of_classes_held = int(input(\"Enter Number of Classes Held: \"))\n",
    "    number_of_classes_attended = int(input(\"Enter Number of Classes Attended: \"))\n",
    "\n",
    "    if number_of_classes_held <= 0 or number_of_classes_attended < 0:\n",
    "        raise ValueError()\n",
    "\n",
    "    percentage = round((number_of_classes_attended / number_of_classes_held) * 100, 2)\n",
    "\n",
    "    print(f\"Percentage of Classes Attended: {percentage}%\")\n",
    "\n",
    "    if percentage < 75:\n",
    "        print(\"You are not allowed to sit in exam!\")\n",
    "    else:\n",
    "        print(\"You are allowed to sit in exam!\")\n",
    "\n",
    "except ValueError:\n",
    "    print(\"Invalid Value!\")\n"
   ]
  },
  {
   "cell_type": "markdown",
   "metadata": {},
   "source": [
    "# Exercise # 9:\n",
    "Modify the above question to allow student to sit if he/she has medical cause. Ask user if he/she has medical cause or not ( 'Y' or 'N' ) and print accordingly."
   ]
  },
  {
   "cell_type": "code",
   "execution_count": 5,
   "metadata": {},
   "outputs": [
    {
     "name": "stdout",
     "output_type": "stream",
     "text": [
      "Enter Number of Classes Held: 10\n",
      "Enter Number of Classes Attended: 5\n",
      "Percentage of Classes Attended: 50.0%\n",
      "Any medical cause? (Y or N): N\n",
      "You are not allowed to sit in exam!\n"
     ]
    }
   ],
   "source": [
    "try:\n",
    "    number_of_classes_held = int(input(\"Enter Number of Classes Held: \"))\n",
    "    number_of_classes_attended = int(input(\"Enter Number of Classes Attended: \"))\n",
    "\n",
    "    if number_of_classes_held <= 0 or number_of_classes_attended < 0:\n",
    "        raise ValueError()\n",
    "\n",
    "    percentage = round((number_of_classes_attended / number_of_classes_held) * 100, 2)\n",
    "\n",
    "    print(f\"Percentage of Classes Attended: {percentage}%\")\n",
    "\n",
    "    if percentage < 75:\n",
    "        medical_cause = input(\"Any medical cause? (Y or N): \")\n",
    "        medical_cause = medical_cause.upper()\n",
    "\n",
    "        if medical_cause == \"N\":\n",
    "            print(\"You are not allowed to sit in exam!\")\n",
    "        elif medical_cause == \"Y\":\n",
    "            print(\"Due to medical reasons, you are allowed to sit in exam!\")\n",
    "        else:\n",
    "            raise ValueError()\n",
    "    else:\n",
    "        print(\"You are allowed to sit in exam!\")\n",
    "\n",
    "except ValueError:\n",
    "    print(\"Invalid Value!\")\n"
   ]
  },
  {
   "cell_type": "code",
   "execution_count": null,
   "metadata": {},
   "outputs": [],
   "source": []
  }
 ],
 "metadata": {
  "kernelspec": {
   "display_name": "Python 3",
   "language": "python",
   "name": "python3"
  },
  "language_info": {
   "codemirror_mode": {
    "name": "ipython",
    "version": 3
   },
   "file_extension": ".py",
   "mimetype": "text/x-python",
   "name": "python",
   "nbconvert_exporter": "python",
   "pygments_lexer": "ipython3",
   "version": "3.7.6"
  }
 },
 "nbformat": 4,
 "nbformat_minor": 4
}
