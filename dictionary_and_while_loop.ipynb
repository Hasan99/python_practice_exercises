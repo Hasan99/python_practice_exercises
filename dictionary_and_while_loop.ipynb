{
 "cells": [
  {
   "cell_type": "markdown",
   "metadata": {},
   "source": [
    "Write a python program and extract data from a dictionary according to given output.\n",
    "people = {1:{\"shadu\":\"nagin\", \"gender\":\"Male\"}\n",
    "          2:{\"Arqam\":\"naag\",\"gender\":\"Male\" }}\n",
    "\n",
    "output: naag\n",
    "        Male"
   ]
  },
  {
   "cell_type": "code",
   "execution_count": 1,
   "metadata": {},
   "outputs": [
    {
     "name": "stdout",
     "output_type": "stream",
     "text": [
      "naag Male\n"
     ]
    }
   ],
   "source": [
    "people = {\n",
    "    1: {\n",
    "        \"shadu\": \"nagin\",\n",
    "        \"gender\": \"Male\"\n",
    "    },\n",
    "    2: {\n",
    "        \"Arqam\": \"naag\",\n",
    "        \"gender\": \"Male\"\n",
    "    }\n",
    "}\n",
    "\n",
    "print(people[2][\"Arqam\"], people[2][\"gender\"])\n"
   ]
  },
  {
   "cell_type": "markdown",
   "metadata": {},
   "source": [
    "How to itrate on above dictionary and get expected output.\n",
    "\n",
    "output: people_1 id:\n",
    "        shadu : nagin\n",
    "        gender: Male\n",
    "        \n",
    "        people_2 id:\n",
    "        Arqam : naag\n",
    "        gender: Male\n",
    "        "
   ]
  },
  {
   "cell_type": "code",
   "execution_count": 3,
   "metadata": {},
   "outputs": [
    {
     "name": "stdout",
     "output_type": "stream",
     "text": [
      "-------------------\n",
      "ID: 1\n",
      "shadu: nagin\n",
      "gender: Male\n",
      "-------------------\n",
      "ID: 2\n",
      "Arqam: naag\n",
      "gender: Male\n",
      "-------------------\n"
     ]
    }
   ],
   "source": [
    "people = {\n",
    "    1: {\n",
    "        \"shadu\": \"nagin\",\n",
    "        \"gender\": \"Male\"\n",
    "    },\n",
    "    2: {\n",
    "        \"Arqam\": \"naag\",\n",
    "        \"gender\": \"Male\"\n",
    "    }\n",
    "}\n",
    "\n",
    "for id_, data in people.items():\n",
    "    print(\"-------------------\")\n",
    "    print(f\"ID: {id_}\")\n",
    "\n",
    "    for key, value in data.items():\n",
    "        print(f\"{key}: {value}\")\n",
    "\n",
    "print(\"-------------------\")\n"
   ]
  },
  {
   "cell_type": "markdown",
   "metadata": {},
   "source": [
    "Write a secret word in your program and user guesses a word. if it is, the game finishes. if it is not equal, ask the user to play again and count the number of times that user made guess."
   ]
  },
  {
   "cell_type": "code",
   "execution_count": 4,
   "metadata": {},
   "outputs": [
    {
     "name": "stdout",
     "output_type": "stream",
     "text": [
      "Try 1\n",
      "Enter fruit: apple\n",
      "Wrong!\n",
      "Try 2\n",
      "Enter fruit: banana\n",
      "Wrong!\n",
      "Try 3\n",
      "Enter fruit: orange\n",
      "You win!\n"
     ]
    }
   ],
   "source": [
    "import random\n",
    "\n",
    "fruits = [\"apple\", \"banana\", \"orange\", \"grape\", \"mango\"]\n",
    "fruit_to_guess = random.choice(fruits)\n",
    "try_count = 1\n",
    "\n",
    "while True:\n",
    "    print(f\"Try {try_count}\")\n",
    "    guessed_fruit = input(\"Enter fruit: \")\n",
    "    guessed_fruit = guessed_fruit.lower()\n",
    "\n",
    "    if guessed_fruit == fruit_to_guess:\n",
    "        print(\"You win!\")\n",
    "        break\n",
    "    else:\n",
    "        print(\"Wrong!\")\n",
    "\n",
    "    if try_count == 3:\n",
    "        print(\"GAME OVER!\")\n",
    "\n",
    "        play_again = input(\"\\nPlay again? (y/n): \")\n",
    "        play_again = play_again.lower()\n",
    "\n",
    "        if play_again == \"y\":\n",
    "            fruit_to_guess = random.choice(fruits)\n",
    "            try_count = 0\n",
    "        else:\n",
    "            print(\"THANK YOU!\")\n",
    "            break\n",
    "\n",
    "    try_count = try_count + 1\n"
   ]
  },
  {
   "cell_type": "markdown",
   "metadata": {},
   "source": [
    "write a program that takes input from user in the form of text and count the space."
   ]
  },
  {
   "cell_type": "code",
   "execution_count": 5,
   "metadata": {},
   "outputs": [
    {
     "name": "stdout",
     "output_type": "stream",
     "text": [
      "Enter text: Yes you can!\n",
      "Space Count: 2\n"
     ]
    }
   ],
   "source": [
    "text = input(\"Enter text: \")\n",
    "space_count = 0\n",
    "\n",
    "for character in text:\n",
    "    if character == \" \":\n",
    "        space_count = space_count + 1\n",
    "\n",
    "print(f\"Space Count: {space_count}\")\n"
   ]
  },
  {
   "cell_type": "markdown",
   "metadata": {},
   "source": [
    "Write a python program that print the sum of first 5 integer number."
   ]
  },
  {
   "cell_type": "code",
   "execution_count": 6,
   "metadata": {},
   "outputs": [
    {
     "name": "stdout",
     "output_type": "stream",
     "text": [
      "Sum of first 5 integers: 15\n"
     ]
    }
   ],
   "source": [
    "print(f\"Sum of first 5 integers: {sum(list(range(1, 6)))}\")"
   ]
  },
  {
   "cell_type": "code",
   "execution_count": null,
   "metadata": {},
   "outputs": [],
   "source": []
  }
 ],
 "metadata": {
  "kernelspec": {
   "display_name": "Python 3",
   "language": "python",
   "name": "python3"
  },
  "language_info": {
   "codemirror_mode": {
    "name": "ipython",
    "version": 3
   },
   "file_extension": ".py",
   "mimetype": "text/x-python",
   "name": "python",
   "nbconvert_exporter": "python",
   "pygments_lexer": "ipython3",
   "version": "3.7.6"
  }
 },
 "nbformat": 4,
 "nbformat_minor": 2
}
