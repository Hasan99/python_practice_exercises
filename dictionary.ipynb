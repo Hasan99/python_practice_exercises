{
 "cells": [
  {
   "cell_type": "markdown",
   "metadata": {},
   "source": [
    "# Exercise 1: \n",
    "Below are the two lists convert it into the dictionary\n",
    "\n",
    "keys = ['Ten', 'Twenty', 'Thirty']\n",
    "\n",
    "values = [10, 20, 30]\n",
    "\n",
    "Expected output:\n",
    "\n",
    "{'Ten': 10, 'Twenty': 20, 'Thirty': 30}"
   ]
  },
  {
   "cell_type": "code",
   "execution_count": 1,
   "metadata": {},
   "outputs": [
    {
     "name": "stdout",
     "output_type": "stream",
     "text": [
      "Keys: ['Ten', 'Twenty', 'Thirty']\n",
      "Values: [10, 20, 30]\n",
      "\n",
      "Dictionary: {'Ten': 10, 'Twenty': 20, 'Thirty': 30}\n"
     ]
    }
   ],
   "source": [
    "keys = ['Ten', 'Twenty', 'Thirty']\n",
    "values = [10, 20, 30]\n",
    "dictionary = {}\n",
    "\n",
    "for key, value in zip(keys, values):\n",
    "    dictionary[key] = value\n",
    "\n",
    "print(f\"Keys: {keys}\")\n",
    "print(f\"Values: {values}\")\n",
    "print(f\"\\nDictionary: {dictionary}\")\n"
   ]
  },
  {
   "cell_type": "markdown",
   "metadata": {},
   "source": [
    "# Exercise 2: \n",
    "Merge following two Python dictionaries into one\n",
    "\n",
    "dict1 = {'Ten': 10, 'Twenty': 20, 'Thirty': 30}\n",
    "\n",
    "dict2 = {'Thirty': 30, 'Fourty': 40, 'Fifty': 50}\n",
    "\n",
    "Expected output:\n",
    "\n",
    "{'Ten': 10, 'Twenty': 20, 'Thirty': 30, 'Fourty': 40, 'Fifty': 50}"
   ]
  },
  {
   "cell_type": "code",
   "execution_count": 2,
   "metadata": {},
   "outputs": [
    {
     "name": "stdout",
     "output_type": "stream",
     "text": [
      "Dict1: {'Ten': 10, 'Twenty': 20, 'Thirty': 30}\n",
      "Dict2: {'Thirty': 30, 'Forty': 40, 'Fifty': 50}\n",
      "\n",
      "Dictionary: {'Ten': 10, 'Thirty': 30, 'Twenty': 20, 'Forty': 40, 'Fifty': 50}\n"
     ]
    }
   ],
   "source": [
    "dict1 = {'Ten': 10, 'Twenty': 20, 'Thirty': 30}\n",
    "dict2 = {'Thirty': 30, 'Forty': 40, 'Fifty': 50}\n",
    "dictionary = {}\n",
    "\n",
    "for key_1, key_2 in zip(dict1, dict2):\n",
    "    if key_1 not in dictionary:\n",
    "        dictionary[key_1] = dict1[key_1]\n",
    "    if key_2 not in dictionary:\n",
    "        dictionary[key_2] = dict2[key_2]\n",
    "\n",
    "print(f\"Dict1: {dict1}\")\n",
    "print(f\"Dict2: {dict2}\")\n",
    "print(f\"\\nDictionary: {dictionary}\")\n"
   ]
  },
  {
   "cell_type": "markdown",
   "metadata": {},
   "source": [
    "# Exercise 3: \n",
    "Access the value of key ‘history’\n",
    "\n",
    "sampleDict = { \n",
    "   \"class\":{ \n",
    "      \"student\":{ \n",
    "         \"name\":\"Mike\",\n",
    "         \"marks\":{ \n",
    "            \"physics\":70,\n",
    "            \"history\":80\n",
    "         }\n",
    "      }\n",
    "   }\n",
    "}\n",
    "\n",
    "Expected output:\n",
    "\n",
    "80\n",
    "\n"
   ]
  },
  {
   "cell_type": "code",
   "execution_count": 3,
   "metadata": {},
   "outputs": [
    {
     "name": "stdout",
     "output_type": "stream",
     "text": [
      "80\n"
     ]
    }
   ],
   "source": [
    "sampleDict = {\"class\": {\"student\": {\"name\": \"Mike\", \"marks\": {\"physics\": 70, \"history\": 80}}}}\n",
    "\n",
    "print(sampleDict[\"class\"][\"student\"][\"marks\"][\"history\"])\n"
   ]
  },
  {
   "cell_type": "markdown",
   "metadata": {},
   "source": [
    "# exercise 4: \n",
    "Initialize dictionary with default values\n",
    "Given:\n",
    "\n",
    "employees = ['Kelly', 'Emma', 'John']\n",
    "\n",
    "defaults = {\"designation\": 'Application Developer', \"salary\": 8000}"
   ]
  },
  {
   "cell_type": "code",
   "execution_count": 2,
   "metadata": {},
   "outputs": [
    {
     "name": "stdout",
     "output_type": "stream",
     "text": [
      "----------------------------------------\n",
      "Name: Kelly\n",
      "Designation: Application Developer\n",
      "Salary: 8000\n",
      "----------------------------------------\n",
      "Name: Emma\n",
      "Designation: Application Developer\n",
      "Salary: 8000\n",
      "----------------------------------------\n",
      "Name: John\n",
      "Designation: Application Developer\n",
      "Salary: 8000\n",
      "----------------------------------------\n"
     ]
    }
   ],
   "source": [
    "employees = ['Kelly', 'Emma', 'John']\n",
    "defaults = {\"designation\": 'Application Developer', \"salary\": 8000}\n",
    "\n",
    "employee_data = {}\n",
    "\n",
    "for employee in employees:\n",
    "    employee_data[employee] = defaults\n",
    "\n",
    "for name in employee_data:\n",
    "    print(\"----------------------------------------\")\n",
    "    print(f\"Name: {name}\")\n",
    "    print(f\"Designation: {employee_data[name]['designation']}\")\n",
    "    print(f\"Salary: {employee_data[name]['salary']}\")\n",
    "\n",
    "print(\"----------------------------------------\")\n"
   ]
  },
  {
   "cell_type": "markdown",
   "metadata": {},
   "source": [
    "# Exercise 5: \n",
    "\n",
    "Create a new dictionary by extracting the following keys from a given dictionary\n",
    "Given dictionary:\n",
    "\n",
    "sampleDict = {\n",
    "  \"name\": \"Kelly\",\n",
    "  \"age\":25,\n",
    "  \"salary\": 8000,\n",
    "  \"city\": \"New york\"  \n",
    "}\n",
    "\n",
    "Keys to extract\n",
    "\n",
    "keys = [\"name\", \"salary\"]\n",
    "\n",
    "Expected output:\n",
    "\n",
    "{'name': 'Kelly', 'salary': 8000}"
   ]
  },
  {
   "cell_type": "code",
   "execution_count": 3,
   "metadata": {},
   "outputs": [
    {
     "name": "stdout",
     "output_type": "stream",
     "text": [
      "{'name': 'Kelly', 'salary': 8000}\n"
     ]
    }
   ],
   "source": [
    "sampleDict = {\n",
    "    \"name\": \"Kelly\",\n",
    "    \"age\": 25,\n",
    "    \"salary\": 8000,\n",
    "    \"city\": \"New york\"\n",
    "}\n",
    "\n",
    "keys = [\"name\", \"salary\"]\n",
    "dictionary = {}\n",
    "\n",
    "for key in keys:\n",
    "    dictionary[key] = sampleDict[key]\n",
    "\n",
    "print(dictionary)\n"
   ]
  },
  {
   "cell_type": "markdown",
   "metadata": {},
   "source": [
    "# Exercise 6: \n",
    "Delete set of keys from Python Dictionary\n",
    "\n",
    "Given:\n",
    "\n",
    "sampleDict = {\n",
    "  \"name\": \"Kelly\",\n",
    "  \"age\":25,\n",
    "  \"salary\": 8000,\n",
    "  \"city\": \"New york\"\n",
    "}\n",
    "\n",
    "keysToRemove = [\"name\", \"salary\"]\n",
    "Expected output:\n",
    "\n",
    "{'city': 'New york', 'age': 25}"
   ]
  },
  {
   "cell_type": "code",
   "execution_count": 4,
   "metadata": {},
   "outputs": [
    {
     "name": "stdout",
     "output_type": "stream",
     "text": [
      "Before Removing: {'name': 'Kelly', 'age': 25, 'salary': 8000, 'city': 'New york'}\n",
      "After Removing: {'age': 25, 'city': 'New york'}\n"
     ]
    }
   ],
   "source": [
    "sampleDict = {\n",
    "    \"name\": \"Kelly\",\n",
    "    \"age\": 25,\n",
    "    \"salary\": 8000,\n",
    "    \"city\": \"New york\"\n",
    "}\n",
    "\n",
    "keysToRemove = [\"name\", \"salary\"]\n",
    "\n",
    "print(f\"Before Removing: {sampleDict}\")\n",
    "\n",
    "for key in keysToRemove:\n",
    "    if key in sampleDict:\n",
    "        sampleDict.pop(key)\n",
    "\n",
    "print(f\"After Removing: {sampleDict}\")\n"
   ]
  },
  {
   "cell_type": "markdown",
   "metadata": {},
   "source": [
    "# Exercise 7: \n",
    "\n",
    "Check if a value 200 exists in a dictionary\n",
    "\n",
    "sampleDict = {'a': 100, 'b': 200, 'c': 300}\n",
    "\n",
    "Expected output:\n",
    "\n",
    "True"
   ]
  },
  {
   "cell_type": "code",
   "execution_count": 5,
   "metadata": {},
   "outputs": [
    {
     "name": "stdout",
     "output_type": "stream",
     "text": [
      "True\n"
     ]
    }
   ],
   "source": [
    "sampleDict = {'a': 100, 'b': 200, 'c': 300}\n",
    "\n",
    "result = 200 in sampleDict.values()\n",
    "\n",
    "print(result)\n"
   ]
  },
  {
   "cell_type": "markdown",
   "metadata": {},
   "source": [
    "# Exercise 8: \n",
    "\n",
    "Rename key city to location in the following dictionary\n",
    "\n",
    "sampleDict = {\n",
    "  \"name\": \"Kelly\",\n",
    "  \"age\":25,\n",
    "  \"salary\": 8000,\n",
    "  \"city\": \"New york\"\n",
    "}\n",
    "\n",
    "Expected output:\n",
    "\n",
    "{\n",
    "  \"name\": \"Kelly\",\n",
    "  \"age\":25,\n",
    "  \"salary\": 8000,\n",
    "  \"location\": \"New york\"\n",
    "}"
   ]
  },
  {
   "cell_type": "code",
   "execution_count": 6,
   "metadata": {},
   "outputs": [
    {
     "name": "stdout",
     "output_type": "stream",
     "text": [
      "Before Rename: {'name': 'Kelly', 'age': 25, 'salary': 8000, 'city': 'New york'}\n",
      "After Rename: {'name': 'Kelly', 'age': 25, 'salary': 8000, 'location': 'New york'}\n"
     ]
    }
   ],
   "source": [
    "sampleDict = {\"name\": \"Kelly\", \"age\": 25, \"salary\": 8000, \"city\": \"New york\"}\n",
    "\n",
    "print(f\"Before Rename: {sampleDict}\")\n",
    "\n",
    "sampleDict[\"location\"] = sampleDict.pop(\"city\")\n",
    "\n",
    "print(f\"After Rename: {sampleDict}\")\n"
   ]
  },
  {
   "cell_type": "markdown",
   "metadata": {},
   "source": [
    "# Exercise 9: \n",
    "\n",
    "Get the key corresponding to the minimum value from the following dictionary\n",
    "\n",
    "sampleDict = {\n",
    "  'Physics': 82,\n",
    "  'Math': 65,\n",
    "  'history': 75\n",
    "}\n",
    "\n",
    "Expected output:\n",
    "\n",
    "Math"
   ]
  },
  {
   "cell_type": "code",
   "execution_count": 7,
   "metadata": {},
   "outputs": [
    {
     "name": "stdout",
     "output_type": "stream",
     "text": [
      "Math\n"
     ]
    }
   ],
   "source": [
    "sampleDict = {'Physics': 82, 'Math': 65, 'history': 75}\n",
    "\n",
    "minimum_value = min(sampleDict.values())\n",
    "\n",
    "for key, value in sampleDict.items():\n",
    "    if value == minimum_value:\n",
    "        print(key)\n",
    "        break\n"
   ]
  },
  {
   "cell_type": "markdown",
   "metadata": {},
   "source": [
    "# Exercise 10: \n",
    "    \n",
    "Given a Python dictionary, Change Brad’s salary to 8500\n",
    "\n",
    "sampleDict = {\n",
    "     'emp1': {'name': 'Jhon', 'salary': 7500},\n",
    "     'emp2': {'name': 'Emma', 'salary': 8000},\n",
    "     'emp3': {'name': 'Brad', 'salary': 6500}\n",
    "}\n",
    "\n",
    "Expected output:\n",
    "\n",
    "sampleDict = {\n",
    "     'emp1': {'name': 'Jhon', 'salary': 7500},\n",
    "     'emp2': {'name': 'Emma', 'salary': 8000},\n",
    "     'emp3': {'name': 'Brad', 'salary': 8500}\n",
    "}"
   ]
  },
  {
   "cell_type": "code",
   "execution_count": 8,
   "metadata": {},
   "outputs": [
    {
     "name": "stdout",
     "output_type": "stream",
     "text": [
      "Brad's salary before increment: 6500\n",
      "Brad's salary after increment: 8500\n"
     ]
    }
   ],
   "source": [
    "sampleDict = {\n",
    "    'emp1': {'name': 'Jhon', 'salary': 7500},\n",
    "    'emp2': {'name': 'Emma', 'salary': 8000},\n",
    "    'emp3': {'name': 'Brad', 'salary': 6500}\n",
    "}\n",
    "\n",
    "employee_name = \"brad\"\n",
    "\n",
    "print(f\"{employee_name.title()}'s salary before increment: {sampleDict['emp3']['salary']}\")\n",
    "\n",
    "for key in sampleDict:\n",
    "    if sampleDict[key]['name'].lower() == employee_name:\n",
    "        sampleDict[key]['salary'] = 8500\n",
    "\n",
    "print(f\"{employee_name.title()}'s salary after increment: {sampleDict['emp3']['salary']}\")\n"
   ]
  },
  {
   "cell_type": "markdown",
   "metadata": {},
   "source": [
    "# Exercise 11:\n",
    "\n",
    "Write a Python script to add a key to a dictionary\n",
    "\n",
    "Sample Dictionary : {0: 10, 1: 20}\n",
    "\n",
    "Expected Result : {0: 10, 1: 20, 2: 30}\n",
    "\n"
   ]
  },
  {
   "cell_type": "code",
   "execution_count": 9,
   "metadata": {},
   "outputs": [
    {
     "name": "stdout",
     "output_type": "stream",
     "text": [
      "Before adding a key: {0: 10, 1: 20}\n",
      "After adding a key: {0: 10, 1: 20, 2: 30}\n"
     ]
    }
   ],
   "source": [
    "sample_dictionary = {0: 10, 1: 20}\n",
    "\n",
    "print(f\"Before adding a key: {sample_dictionary}\")\n",
    "\n",
    "sample_dictionary[2] = 30\n",
    "\n",
    "print(f\"After adding a key: {sample_dictionary}\")\n"
   ]
  },
  {
   "cell_type": "markdown",
   "metadata": {},
   "source": [
    "# Exercise 12:\n",
    "Write a program that takes inpuut from user (key and value) and add that kry value pair to dictionary\n"
   ]
  },
  {
   "cell_type": "code",
   "execution_count": 11,
   "metadata": {},
   "outputs": [
    {
     "name": "stdout",
     "output_type": "stream",
     "text": [
      "Enter a key: fruit\n",
      "Enter a value: orange\n",
      "\n",
      "Dictionary: {'fruit': 'orange'}\n"
     ]
    }
   ],
   "source": [
    "key = input(\"Enter a key: \")\n",
    "value = input(\"Enter a value: \")\n",
    "\n",
    "dictionary = {key: value}\n",
    "\n",
    "print(f\"\\nDictionary: {dictionary}\")\n"
   ]
  },
  {
   "cell_type": "markdown",
   "metadata": {},
   "source": [
    "# Exercise 13:\n",
    "\n",
    "Write a Python script to concatenate following dictionaries to create a new one. Go to the editor\n",
    "\n",
    "Sample Dictionary :\n",
    "dic1={1:10, 2:20}\n",
    "dic2={3:30, 4:40}\n",
    "dic3={5:50,6:60}\n",
    "\n",
    "Expected Result : {1: 10, 2: 20, 3: 30, 4: 40, 5: 50, 6: 60}\n"
   ]
  },
  {
   "cell_type": "code",
   "execution_count": 12,
   "metadata": {},
   "outputs": [
    {
     "name": "stdout",
     "output_type": "stream",
     "text": [
      "Dictionary:\n",
      "{1: 10, 3: 30, 5: 50, 2: 20, 4: 40, 6: 60}\n"
     ]
    }
   ],
   "source": [
    "dic1 = {1: 10, 2: 20}\n",
    "dic2 = {3: 30, 4: 40}\n",
    "dic3 = {5: 50, 6: 60}\n",
    "\n",
    "dictionary = {}\n",
    "\n",
    "for key_1, key_2, key_3 in zip(dic1, dic2, dic3):\n",
    "    if key_1 not in dictionary:\n",
    "        dictionary[key_1] = dic1[key_1]\n",
    "    if key_2 not in dictionary:\n",
    "        dictionary[key_2] = dic2[key_2]\n",
    "    if key_3 not in dictionary:\n",
    "        dictionary[key_3] = dic3[key_3]\n",
    "\n",
    "print(f\"Dictionary:\\n{dictionary}\")\n"
   ]
  },
  {
   "cell_type": "markdown",
   "metadata": {},
   "source": [
    "# Exercise 14:\n",
    "\n",
    "Write a Python program to multiply all the items in a dictionary\n",
    "\n"
   ]
  },
  {
   "cell_type": "code",
   "execution_count": 13,
   "metadata": {},
   "outputs": [
    {
     "name": "stdout",
     "output_type": "stream",
     "text": [
      "Dictionary: {'One': 1, 'Two': 2, 'Three': 3}\n",
      "Multiplication Result: 6\n"
     ]
    }
   ],
   "source": [
    "dictionary = {\n",
    "    \"One\": 1,\n",
    "    \"Two\": 2,\n",
    "    \"Three\": 3\n",
    "}\n",
    "\n",
    "result = 1\n",
    "\n",
    "for value in dictionary.values():\n",
    "    result = result * value\n",
    "\n",
    "print(f\"Dictionary: {dictionary}\")\n",
    "print(f\"Multiplication Result: {result}\")\n"
   ]
  },
  {
   "cell_type": "markdown",
   "metadata": {},
   "source": [
    "# Exercise 15:\n",
    "\n",
    "Write a Python program that accepts a string and calculate \n",
    "the number of digits and letters\n"
   ]
  },
  {
   "cell_type": "code",
   "execution_count": 15,
   "metadata": {},
   "outputs": [
    {
     "name": "stdout",
     "output_type": "stream",
     "text": [
      "Enter any string: 1 2 3 go\n",
      "\n",
      "Digits: 3\n",
      "Letters: 2\n"
     ]
    }
   ],
   "source": [
    "string = input(\"Enter any string: \")\n",
    "string = string.lower()\n",
    "letter_count = 0\n",
    "digit_count = 0\n",
    "\n",
    "for character in string:\n",
    "    if 48 <= ord(character) <= 57:\n",
    "        digit_count = digit_count + 1\n",
    "    elif 97 <= ord(character) <= 122:\n",
    "        letter_count = letter_count + 1\n",
    "\n",
    "print(f\"\\nDigits: {digit_count}\")\n",
    "print(f\"Letters: {letter_count}\")\n"
   ]
  },
  {
   "cell_type": "code",
   "execution_count": null,
   "metadata": {},
   "outputs": [],
   "source": []
  }
 ],
 "metadata": {
  "kernelspec": {
   "display_name": "Python 3",
   "language": "python",
   "name": "python3"
  },
  "language_info": {
   "codemirror_mode": {
    "name": "ipython",
    "version": 3
   },
   "file_extension": ".py",
   "mimetype": "text/x-python",
   "name": "python",
   "nbconvert_exporter": "python",
   "pygments_lexer": "ipython3",
   "version": "3.7.6"
  }
 },
 "nbformat": 4,
 "nbformat_minor": 4
}
